{
 "cells": [
  {
   "cell_type": "markdown",
   "metadata": {},
   "source": [
    "## 基于概率论的分类方法：朴素贝叶斯"
   ]
  },
  {
   "cell_type": "markdown",
   "metadata": {},
   "source": [
    "### 使用python进行文本分类"
   ]
  },
  {
   "cell_type": "code",
   "execution_count": 1,
   "metadata": {},
   "outputs": [],
   "source": [
    "def loadDataSet():\n",
    "    postingList = [['my', 'dog', 'has', 'flea', 'problem', 'help', 'please'],\n",
    "                   ['maybe', 'not', 'take', 'him', 'to', 'dog', 'park', 'stupid'],\n",
    "                   ['my', 'dalmation', 'is', 'so', 'cute', 'I', 'love', 'him'],\n",
    "                   ['stop', 'posting', 'stupid','worthless', 'garbage'],\n",
    "                   ['mr', 'licks', 'ate', 'my', 'steak', 'how', 'to', 'stop', 'him'],\n",
    "                   ['quit', 'buying', 'worthless', 'dog', 'food', 'stupid']]\n",
    "    classVec = [0, 1, 0, 1, 0, 1]\n",
    "    return postingList, classVec"
   ]
  },
  {
   "cell_type": "code",
   "execution_count": 3,
   "metadata": {},
   "outputs": [],
   "source": [
    "def createVocabList(dataSet):\n",
    "    vocabSet = set([]) #创建一个空的set\n",
    "    for document in dataSet:\n",
    "        vocabSet = vocabSet | set(document) #创建两个Set的并集\n",
    "    return list(vocabSet)\n",
    "\n",
    "def setOfWords2Vec(vocabList, inputSet):\n",
    "    returnVec = [0] * len(vocabList)   #产生一个包含len(voacbList)个0元素的列表\n",
    "    for word in inputSet:\n",
    "        if word in vocabList:\n",
    "            returnVec[vocabList.index(word)] = 1\n",
    "        else:\n",
    "            print(\"the word: %s is not in my Vocabulary!\" % woed)\n",
    "    return returnVec"
   ]
  },
  {
   "cell_type": "code",
   "execution_count": 4,
   "metadata": {},
   "outputs": [
    {
     "name": "stdout",
     "output_type": "stream",
     "text": [
      "[['my', 'dog', 'has', 'flea', 'problem', 'help', 'please'], ['maybe', 'not', 'take', 'him', 'to', 'dog', 'park', 'stupid'], ['my', 'dalmation', 'is', 'so', 'cute', 'I', 'love', 'him'], ['stop', 'posting', 'stupid', 'worthless', 'garbage'], ['mr', 'licks', 'ate', 'my', 'steak', 'how', 'to', 'stop', 'him'], ['quit', 'buying', 'worthless', 'dog', 'food', 'stupid']]\n",
      "[0, 1, 0, 1, 0, 1]\n"
     ]
    }
   ],
   "source": [
    "listOposts, listClasses = loadDataSet()\n",
    "print(listOposts)\n",
    "print(listClasses)"
   ]
  },
  {
   "cell_type": "code",
   "execution_count": 5,
   "metadata": {},
   "outputs": [
    {
     "data": {
      "text/plain": [
       "['help',\n",
       " 'take',\n",
       " 'posting',\n",
       " 'dog',\n",
       " 'cute',\n",
       " 'not',\n",
       " 'dalmation',\n",
       " 'flea',\n",
       " 'has',\n",
       " 'maybe',\n",
       " 'to',\n",
       " 'garbage',\n",
       " 'my',\n",
       " 'so',\n",
       " 'mr',\n",
       " 'stupid',\n",
       " 'I',\n",
       " 'stop',\n",
       " 'him',\n",
       " 'love',\n",
       " 'buying',\n",
       " 'ate',\n",
       " 'problem',\n",
       " 'food',\n",
       " 'worthless',\n",
       " 'is',\n",
       " 'please',\n",
       " 'how',\n",
       " 'steak',\n",
       " 'quit',\n",
       " 'licks',\n",
       " 'park']"
      ]
     },
     "execution_count": 5,
     "metadata": {},
     "output_type": "execute_result"
    }
   ],
   "source": [
    "myVocabList = createVocabList(listOposts)\n",
    "myVocabList"
   ]
  },
  {
   "cell_type": "code",
   "execution_count": 7,
   "metadata": {},
   "outputs": [
    {
     "data": {
      "text/plain": [
       "[0,\n",
       " 1,\n",
       " 0,\n",
       " 1,\n",
       " 0,\n",
       " 1,\n",
       " 0,\n",
       " 0,\n",
       " 0,\n",
       " 1,\n",
       " 1,\n",
       " 0,\n",
       " 0,\n",
       " 0,\n",
       " 0,\n",
       " 1,\n",
       " 0,\n",
       " 0,\n",
       " 1,\n",
       " 0,\n",
       " 0,\n",
       " 0,\n",
       " 0,\n",
       " 0,\n",
       " 0,\n",
       " 0,\n",
       " 0,\n",
       " 0,\n",
       " 0,\n",
       " 0,\n",
       " 0,\n",
       " 1]"
      ]
     },
     "execution_count": 7,
     "metadata": {},
     "output_type": "execute_result"
    }
   ],
   "source": [
    "setOfWords2Vec(myVocabList,listOposts[1])"
   ]
  },
  {
   "cell_type": "markdown",
   "metadata": {},
   "source": [
    "### 训练算法：从词向量计算概率"
   ]
  },
  {
   "cell_type": "code",
   "execution_count": 14,
   "metadata": {},
   "outputs": [],
   "source": [
    "import numpy as np\n",
    "def trainNB0(trainMatrix, trainCategory):\n",
    "    numTrainDocs = len(trainMatrix)\n",
    "    numWords = len(trainMatrix[0])\n",
    "    pAbusive = sum(trainCategory)/float(numTrainDocs) #标签为1的样本数除以总数\n",
    "    p0Num = np.ones(numWords)\n",
    "    p1Num = np.ones(numWords)\n",
    "    p0Denom = 2.0\n",
    "    p1Denom = 2.0\n",
    "    for i in range(numTrainDocs):\n",
    "        if trainCategory[i] == 1:\n",
    "            p1Num += trainMatrix[i]\n",
    "            p1Denom += sum(trainMatrix[i])  ###为什么要计算p1Denom???\n",
    "        else:\n",
    "            p0Num += trainMatrix[i]\n",
    "            p0Denom += sum(trainMatrix[i])\n",
    "    p1Vect = np.log(p1Num/p1Denom)   #为什么要这样计算??\n",
    "    p0Vect = np.log(p0Num/p0Denom)\n",
    "    return p0Vect, p1Vect,pAbusive"
   ]
  },
  {
   "cell_type": "code",
   "execution_count": 15,
   "metadata": {},
   "outputs": [
    {
     "data": {
      "text/plain": [
       "[[1,\n",
       "  0,\n",
       "  0,\n",
       "  1,\n",
       "  0,\n",
       "  0,\n",
       "  0,\n",
       "  1,\n",
       "  1,\n",
       "  0,\n",
       "  0,\n",
       "  0,\n",
       "  1,\n",
       "  0,\n",
       "  0,\n",
       "  0,\n",
       "  0,\n",
       "  0,\n",
       "  0,\n",
       "  0,\n",
       "  0,\n",
       "  0,\n",
       "  1,\n",
       "  0,\n",
       "  0,\n",
       "  0,\n",
       "  1,\n",
       "  0,\n",
       "  0,\n",
       "  0,\n",
       "  0,\n",
       "  0],\n",
       " [0,\n",
       "  1,\n",
       "  0,\n",
       "  1,\n",
       "  0,\n",
       "  1,\n",
       "  0,\n",
       "  0,\n",
       "  0,\n",
       "  1,\n",
       "  1,\n",
       "  0,\n",
       "  0,\n",
       "  0,\n",
       "  0,\n",
       "  1,\n",
       "  0,\n",
       "  0,\n",
       "  1,\n",
       "  0,\n",
       "  0,\n",
       "  0,\n",
       "  0,\n",
       "  0,\n",
       "  0,\n",
       "  0,\n",
       "  0,\n",
       "  0,\n",
       "  0,\n",
       "  0,\n",
       "  0,\n",
       "  1],\n",
       " [0,\n",
       "  0,\n",
       "  0,\n",
       "  0,\n",
       "  1,\n",
       "  0,\n",
       "  1,\n",
       "  0,\n",
       "  0,\n",
       "  0,\n",
       "  0,\n",
       "  0,\n",
       "  1,\n",
       "  1,\n",
       "  0,\n",
       "  0,\n",
       "  1,\n",
       "  0,\n",
       "  1,\n",
       "  1,\n",
       "  0,\n",
       "  0,\n",
       "  0,\n",
       "  0,\n",
       "  0,\n",
       "  1,\n",
       "  0,\n",
       "  0,\n",
       "  0,\n",
       "  0,\n",
       "  0,\n",
       "  0],\n",
       " [0,\n",
       "  0,\n",
       "  1,\n",
       "  0,\n",
       "  0,\n",
       "  0,\n",
       "  0,\n",
       "  0,\n",
       "  0,\n",
       "  0,\n",
       "  0,\n",
       "  1,\n",
       "  0,\n",
       "  0,\n",
       "  0,\n",
       "  1,\n",
       "  0,\n",
       "  1,\n",
       "  0,\n",
       "  0,\n",
       "  0,\n",
       "  0,\n",
       "  0,\n",
       "  0,\n",
       "  1,\n",
       "  0,\n",
       "  0,\n",
       "  0,\n",
       "  0,\n",
       "  0,\n",
       "  0,\n",
       "  0],\n",
       " [0,\n",
       "  0,\n",
       "  0,\n",
       "  0,\n",
       "  0,\n",
       "  0,\n",
       "  0,\n",
       "  0,\n",
       "  0,\n",
       "  0,\n",
       "  1,\n",
       "  0,\n",
       "  1,\n",
       "  0,\n",
       "  1,\n",
       "  0,\n",
       "  0,\n",
       "  1,\n",
       "  1,\n",
       "  0,\n",
       "  0,\n",
       "  1,\n",
       "  0,\n",
       "  0,\n",
       "  0,\n",
       "  0,\n",
       "  0,\n",
       "  1,\n",
       "  1,\n",
       "  0,\n",
       "  1,\n",
       "  0],\n",
       " [0,\n",
       "  0,\n",
       "  0,\n",
       "  1,\n",
       "  0,\n",
       "  0,\n",
       "  0,\n",
       "  0,\n",
       "  0,\n",
       "  0,\n",
       "  0,\n",
       "  0,\n",
       "  0,\n",
       "  0,\n",
       "  0,\n",
       "  1,\n",
       "  0,\n",
       "  0,\n",
       "  0,\n",
       "  0,\n",
       "  1,\n",
       "  0,\n",
       "  0,\n",
       "  1,\n",
       "  1,\n",
       "  0,\n",
       "  0,\n",
       "  0,\n",
       "  0,\n",
       "  1,\n",
       "  0,\n",
       "  0]]"
      ]
     },
     "execution_count": 15,
     "metadata": {},
     "output_type": "execute_result"
    }
   ],
   "source": [
    "trainMat=[]\n",
    "for postinDoc in listOposts:\n",
    "    trainMat.append(setOfWords2Vec(myVocabList, postinDoc))\n",
    "trainMat"
   ]
  },
  {
   "cell_type": "code",
   "execution_count": 18,
   "metadata": {},
   "outputs": [
    {
     "name": "stdout",
     "output_type": "stream",
     "text": [
      "[-2.56494936 -3.25809654 -3.25809654 -2.56494936 -2.56494936 -3.25809654\n",
      " -2.56494936 -2.56494936 -2.56494936 -3.25809654 -2.56494936 -3.25809654\n",
      " -1.87180218 -2.56494936 -2.56494936 -3.25809654 -2.56494936 -2.56494936\n",
      " -2.15948425 -2.56494936 -3.25809654 -2.56494936 -2.56494936 -3.25809654\n",
      " -3.25809654 -2.56494936 -2.56494936 -2.56494936 -2.56494936 -3.25809654\n",
      " -2.56494936 -3.25809654]\n",
      "[-3.04452244 -2.35137526 -2.35137526 -1.94591015 -3.04452244 -2.35137526\n",
      " -3.04452244 -3.04452244 -3.04452244 -2.35137526 -2.35137526 -2.35137526\n",
      " -3.04452244 -3.04452244 -3.04452244 -1.65822808 -3.04452244 -2.35137526\n",
      " -2.35137526 -3.04452244 -2.35137526 -3.04452244 -3.04452244 -2.35137526\n",
      " -1.94591015 -3.04452244 -3.04452244 -3.04452244 -3.04452244 -2.35137526\n",
      " -3.04452244 -2.35137526]\n",
      "0.5\n",
      "32\n"
     ]
    }
   ],
   "source": [
    "p0V, p1V, pAb = trainNB0(trainMat, listClasses)\n",
    "print(p0V)\n",
    "print(p1V)\n",
    "print(pAb)\n",
    "print(len(p0V))"
   ]
  },
  {
   "cell_type": "code",
   "execution_count": 19,
   "metadata": {},
   "outputs": [],
   "source": [
    "def classifyNB(vec2Classify, p0Vec, p1Vec, pClass1):\n",
    "    p1 = sum(vec2Classify * p1Vec) + np.log(pClass1) ###加号是因为取对数，相加即相乘\n",
    "    p0 = sum(vec2Classify * p0Vec) + np.log(1.0 - pClass1)\n",
    "    if p1 > p0:\n",
    "        return 1\n",
    "    else:\n",
    "        return 0"
   ]
  },
  {
   "cell_type": "code",
   "execution_count": 22,
   "metadata": {},
   "outputs": [],
   "source": [
    "def testingNB():\n",
    "    listOposts, listClasses = loadDataSet()\n",
    "    myVocabList = createVocabList(listOposts)\n",
    "    trainMat = []\n",
    "    for postinDoc in listOposts:\n",
    "        trainMat.append(setOfWords2Vec(myVocabList, postinDoc))\n",
    "    p0V, p1V, pAb = trainNB0(np.array(trainMat), np.array(listClasses))\n",
    "    testEntry = ['love', 'my', 'dalmation']\n",
    "    thisDoc = np.array(setOfWords2Vec(myVocabList, testEntry))\n",
    "    print(testEntry, 'classified as: ', classifyNB(thisDoc, p0V, p1V, pAb))\n",
    "    testEntry = ['stupid', 'garbage']\n",
    "    thisDoc = np.array(setOfWords2Vec(myVocabList, testEntry))\n",
    "    print(testEntry, 'classified as: ', classifyNB(thisDoc, p0V, p1V, pAb))"
   ]
  },
  {
   "cell_type": "code",
   "execution_count": 23,
   "metadata": {},
   "outputs": [
    {
     "name": "stdout",
     "output_type": "stream",
     "text": [
      "['love', 'my', 'dalmation'] classified as:  0\n",
      "['stupid', 'garbage'] classified as:  1\n"
     ]
    }
   ],
   "source": [
    "testingNB()"
   ]
  },
  {
   "cell_type": "markdown",
   "metadata": {},
   "source": [
    "- 文本的切分"
   ]
  },
  {
   "cell_type": "code",
   "execution_count": 30,
   "metadata": {},
   "outputs": [
    {
     "data": {
      "text/plain": [
       "['This',\n",
       " 'book',\n",
       " 'is',\n",
       " 'the',\n",
       " 'beat',\n",
       " 'book',\n",
       " 'on',\n",
       " 'Python',\n",
       " 'or',\n",
       " 'M.L.',\n",
       " 'I',\n",
       " 'have',\n",
       " 'ever',\n",
       " 'laid',\n",
       " 'eyes',\n",
       " 'upon.']"
      ]
     },
     "execution_count": 30,
     "metadata": {},
     "output_type": "execute_result"
    }
   ],
   "source": [
    "mySent = 'This book is the beat book on Python or M.L. I have ever laid eyes upon.'\n",
    "mySent.split()"
   ]
  },
  {
   "cell_type": "code",
   "execution_count": 31,
   "metadata": {},
   "outputs": [],
   "source": [
    "import re"
   ]
  },
  {
   "cell_type": "code",
   "execution_count": 32,
   "metadata": {},
   "outputs": [
    {
     "name": "stderr",
     "output_type": "stream",
     "text": [
      "C:\\ProgramData\\Anaconda3\\lib\\site-packages\\ipykernel_launcher.py:2: FutureWarning: split() requires a non-empty pattern match.\n",
      "  \n"
     ]
    },
    {
     "data": {
      "text/plain": [
       "['',\n",
       " ' ',\n",
       " ' ',\n",
       " ' ',\n",
       " ' ',\n",
       " ' ',\n",
       " ' ',\n",
       " ' ',\n",
       " ' ',\n",
       " ' ',\n",
       " '.',\n",
       " '. ',\n",
       " ' ',\n",
       " ' ',\n",
       " ' ',\n",
       " ' ',\n",
       " ' ',\n",
       " '.']"
      ]
     },
     "execution_count": 32,
     "metadata": {},
     "output_type": "execute_result"
    }
   ],
   "source": [
    "regEx = re.compile('\\\\w*')\n",
    "listOfTokens = regEx.split(mySent)\n",
    "listOfTokens"
   ]
  },
  {
   "cell_type": "code",
   "execution_count": 35,
   "metadata": {},
   "outputs": [],
   "source": [
    "def textParse(bigString):\n",
    "    import re\n",
    "    listOfTokens = re.split(r'\\W+', bigString)\n",
    "    return [tok.lower() for tok in listOfTokens if len(tok) > 2]"
   ]
  },
  {
   "cell_type": "code",
   "execution_count": 36,
   "metadata": {},
   "outputs": [
    {
     "data": {
      "text/plain": [
       "['this',\n",
       " 'book',\n",
       " 'the',\n",
       " 'beat',\n",
       " 'book',\n",
       " 'python',\n",
       " 'have',\n",
       " 'ever',\n",
       " 'laid',\n",
       " 'eyes',\n",
       " 'upon']"
      ]
     },
     "execution_count": 36,
     "metadata": {},
     "output_type": "execute_result"
    }
   ],
   "source": [
    "textParse(mySent)"
   ]
  },
  {
   "cell_type": "code",
   "execution_count": 61,
   "metadata": {},
   "outputs": [],
   "source": [
    "def spamTest():\n",
    "    docList = []; classList = []; fullText = []\n",
    "    for i in range(1, 26):\n",
    "        wordList = textParse(open('./email/spam/%d.txt' % i, encoding=\"ISO-8859-1\").read())\n",
    "        docList.append(wordList)\n",
    "        fullText.extend(wordList)\n",
    "        classList.append(1)\n",
    "        wordList = textParse(open('./email/ham/%d.txt' % i, encoding=\"ISO-8859-1\").read())\n",
    "        docList.append(wordList)\n",
    "        fullText.extend(wordList)\n",
    "        classList.append(0)\n",
    "    vocabList = createVocabList(docList)\n",
    "    trainingSet = range(50);testSet =[]   #create test set\n",
    "    for i in range(10):\n",
    "        randIndex = int(np.random.uniform(0, len(trainingSet)))\n",
    "        testSet.append(trainingSet[randIndex])\n",
    "        del(list(trainingSet)[randIndex])\n",
    "    trainMat = []; trainClasses = []\n",
    "    for docIndex in trainingSet:\n",
    "        trainMat.append(setOfWords2Vec(vocabList,docList[docIndex]))\n",
    "        trainClasses.append(classList[docIndex])\n",
    "    p0V, p1V, pSpam = trainNB0(np.array(trainMat), np.array(trainClasses))\n",
    "    errorCount = 0\n",
    "    for docIndex in testSet:\n",
    "        wordVector = setOfWords2Vec(vocabList,docList[docIndex])\n",
    "        if classifyNB(np.array(wordVector), p0V, p1V, pSpam) != classList[docIndex]:\n",
    "            errorCount += 1\n",
    "            print(\"classification error\", docList[docIndex])\n",
    "    print('The error rate is: ', float(errorCount)/len(testSet))"
   ]
  },
  {
   "cell_type": "code",
   "execution_count": 62,
   "metadata": {},
   "outputs": [
    {
     "name": "stdout",
     "output_type": "stream",
     "text": [
      "The error rate is:  0.0\n"
     ]
    }
   ],
   "source": [
    "spamTest()"
   ]
  },
  {
   "cell_type": "code",
   "execution_count": 64,
   "metadata": {},
   "outputs": [
    {
     "name": "stdout",
     "output_type": "stream",
     "text": [
      "# packages in environment at C:\\ProgramData\\Anaconda3:\n",
      "#\n",
      "# Name                    Version                   Build  Channel\n",
      "_ipyw_jlab_nb_ext_conf    0.1.0            py36he6757f0_0    defaults\n",
      "absl-py                   0.6.0                     <pip>\n",
      "alabaster                 0.7.10           py36hcd07829_0    defaults\n",
      "anaconda                  5.2.0                    py36_3    defaults\n",
      "anaconda-client           1.6.14                   py36_0    defaults\n",
      "anaconda-navigator        1.8.7                    py36_0    defaults\n",
      "anaconda-project          0.8.2            py36hfad2e28_0    defaults\n",
      "asn1crypto                0.24.0                   py36_0    defaults\n",
      "astor                     0.7.1                     <pip>\n",
      "astroid                   1.6.3                    py36_0    defaults\n",
      "astropy                   3.0.2            py36h452e1ab_1    defaults\n",
      "attrs                     18.1.0                   py36_0    defaults\n",
      "babel                     2.5.3                    py36_0    defaults\n",
      "backcall                  0.1.0                    py36_0    defaults\n",
      "backports                 1.0              py36h81696a8_1    defaults\n",
      "backports.shutil_get_terminal_size 1.0.0            py36h79ab834_2    defaults\n",
      "beautifulsoup4            4.6.0            py36hd4cc5e8_1    defaults\n",
      "bitarray                  0.8.1            py36hfa6e2cd_1    defaults\n",
      "bkcharts                  0.2              py36h7e685f7_0    defaults\n",
      "blas                      1.0                         mkl    defaults\n",
      "blaze                     0.11.3           py36h8a29ca5_0    defaults\n",
      "bleach                    2.1.3                    py36_0    defaults\n",
      "blosc                     1.14.3               he51fdeb_0    defaults\n",
      "bokeh                     0.12.16                  py36_0    defaults\n",
      "boto                      2.48.0           py36h1a776d2_1    defaults\n",
      "bottleneck                1.2.1            py36hd119dfa_0    defaults\n",
      "bzip2                     1.0.6                hfa6e2cd_5    defaults\n",
      "ca-certificates           2018.03.07                    0    https://mirrors.tuna.tsinghua.edu.cn/anaconda/pkgs/main\n",
      "certifi                   2018.4.16                py36_0    https://mirrors.tuna.tsinghua.edu.cn/anaconda/pkgs/main\n",
      "cffi                      1.11.5           py36h945400d_0    defaults\n",
      "chardet                   3.0.4            py36h420ce6e_1    defaults\n",
      "click                     6.7              py36hec8c647_0    defaults\n",
      "cloudpickle               0.5.3                    py36_0    defaults\n",
      "clyent                    1.2.2            py36hb10d595_1    defaults\n",
      "colorama                  0.3.9            py36h029ae33_0    defaults\n",
      "comtypes                  1.1.4                    py36_0    defaults\n",
      "conda                     4.5.11                   py36_0    https://mirrors.tuna.tsinghua.edu.cn/anaconda/pkgs/main\n",
      "conda-build               3.10.5                   py36_0    defaults\n",
      "conda-env                 2.6.0                h36134e3_1    defaults\n",
      "conda-verify              2.0.0            py36h065de53_0    defaults\n",
      "console_shortcut          0.1.1                h6bb2dd7_3    defaults\n",
      "contextlib2               0.5.5            py36he5d52c0_0    defaults\n",
      "cryptography              2.2.2            py36hfa6e2cd_0    defaults\n",
      "curl                      7.60.0               h7602738_0    defaults\n",
      "cycler                    0.10.0           py36h009560c_0    defaults\n",
      "cython                    0.28.2           py36hfa6e2cd_0    defaults\n",
      "cytoolz                   0.9.0.1          py36hfa6e2cd_0    defaults\n",
      "dask                      0.17.5                   py36_0    defaults\n",
      "dask-core                 0.17.5                   py36_0    defaults\n",
      "datashape                 0.5.4            py36h5770b85_0    defaults\n",
      "decorator                 4.3.0                    py36_0    defaults\n",
      "distributed               1.21.8                   py36_0    defaults\n",
      "docutils                  0.14             py36h6012d8f_0    defaults\n",
      "entrypoints               0.2.3            py36hfd66bb0_2    defaults\n",
      "et_xmlfile                1.0.1            py36h3d2d736_0    defaults\n",
      "fastcache                 1.0.2            py36hfa6e2cd_2    defaults\n",
      "filelock                  3.0.4                    py36_0    defaults\n",
      "flask                     1.0.2                    py36_1    defaults\n",
      "flask-cors                3.0.4                    py36_0    defaults\n",
      "freetype                  2.8                  h51f8f2c_1    defaults\n",
      "gast                      0.2.0                     <pip>\n",
      "get_terminal_size         1.0.0                h38e98db_0    defaults\n",
      "gevent                    1.3.0            py36hfa6e2cd_0    defaults\n",
      "glob2                     0.6              py36hdf76b57_0    defaults\n",
      "graphviz                  0.8.4                     <pip>\n",
      "greenlet                  0.4.13           py36hfa6e2cd_0    defaults\n",
      "grpcio                    1.16.0                    <pip>\n",
      "h5py                      2.8.0                     <pip>\n",
      "h5py                      2.7.1            py36h3bdd7fb_2    defaults\n",
      "hdf5                      1.10.2               hac2f561_1    defaults\n",
      "heapdict                  1.0.0                    py36_2    defaults\n",
      "html5lib                  1.0.1            py36h047fa9f_0    defaults\n",
      "icc_rt                    2017.0.4             h97af966_0    defaults\n",
      "icu                       58.2                 ha66f8fd_1    defaults\n",
      "idna                      2.6              py36h148d497_1    defaults\n",
      "imageio                   2.3.0                    py36_0    defaults\n",
      "imagesize                 1.0.0                    py36_0    defaults\n",
      "intel-openmp              2018.0.0                      8    defaults\n",
      "ipykernel                 4.8.2                    py36_0    defaults\n",
      "ipython                   6.4.0                    py36_0    defaults\n",
      "ipython_genutils          0.2.0            py36h3c5d0ee_0    defaults\n",
      "ipywidgets                7.2.1                    py36_0    defaults\n",
      "isort                     4.3.4                    py36_0    defaults\n",
      "itsdangerous              0.24             py36hb6c5a24_1    defaults\n",
      "jdcal                     1.4                      py36_0    defaults\n",
      "jedi                      0.12.0                   py36_1    defaults\n",
      "jinja2                    2.10             py36h292fed1_0    defaults\n",
      "jpeg                      9b                   hb83a4c4_2    defaults\n",
      "jsonschema                2.6.0            py36h7636477_0    defaults\n",
      "jupyter                   1.0.0                    py36_4    defaults\n",
      "jupyter_client            5.2.3                    py36_0    defaults\n",
      "jupyter_console           5.2.0            py36h6d89b47_1    defaults\n",
      "jupyter_core              4.4.0            py36h56e9d50_0    defaults\n",
      "jupyterlab                0.32.1                   py36_0    defaults\n",
      "jupyterlab_launcher       0.10.5                   py36_0    defaults\n",
      "Keras                     2.2.4                     <pip>\n",
      "Keras-Applications        1.0.6                     <pip>\n",
      "Keras-Preprocessing       1.0.5                     <pip>\n",
      "kiwisolver                1.0.1            py36h12c3424_0    defaults\n",
      "lazy-object-proxy         1.3.1            py36hd1c21d2_0    defaults\n",
      "libcurl                   7.60.0               hc4dcbb0_0    defaults\n",
      "libiconv                  1.15                 h1df5818_7    defaults\n",
      "libpng                    1.6.34               h79bbb47_0    defaults\n",
      "libsodium                 1.0.16               h9d3ae62_0    defaults\n",
      "libssh2                   1.8.0                hd619d38_4    defaults\n",
      "libtiff                   4.0.9                hb8ad9f9_1    defaults\n",
      "libxml2                   2.9.8                hadb2253_1    defaults\n",
      "libxslt                   1.1.32               hf6f1972_0    defaults\n",
      "llvmlite                  0.23.1           py36hcacf6c6_0    defaults\n",
      "locket                    0.2.0            py36hfed976d_1    defaults\n",
      "lxml                      4.2.1            py36heafd4d3_0    defaults\n",
      "lzo                       2.10                 h6df0209_2    defaults\n",
      "m2w64-gcc-libgfortran     5.3.0                         6    defaults\n",
      "m2w64-gcc-libs            5.3.0                         7    defaults\n",
      "m2w64-gcc-libs-core       5.3.0                         7    defaults\n",
      "m2w64-gmp                 6.1.0                         2    defaults\n",
      "m2w64-libwinpthread-git   5.0.0.4634.697f757               2    defaults\n",
      "Markdown                  3.0.1                     <pip>\n"
     ]
    },
    {
     "name": "stdout",
     "output_type": "stream",
     "text": [
      "markupsafe                1.0              py36h0e26971_1    defaults\n",
      "matplotlib                2.2.2            py36h153e9ff_1    defaults\n",
      "mccabe                    0.6.1            py36hb41005a_1    defaults\n",
      "menuinst                  1.4.14           py36hfa6e2cd_0    defaults\n",
      "mistune                   0.8.3            py36hfa6e2cd_1    defaults\n",
      "mkl                       2018.0.2                      1    defaults\n",
      "mkl-service               1.1.2            py36h57e144c_4    defaults\n",
      "mkl_fft                   1.0.1            py36h452e1ab_0    defaults\n",
      "mkl_random                1.0.1            py36h9258bd6_0    defaults\n",
      "more-itertools            4.1.0                    py36_0    defaults\n",
      "mpmath                    1.0.0            py36hacc8adf_2    defaults\n",
      "msgpack                   0.5.6                     <pip>\n",
      "msgpack-python            0.5.6            py36he980bc4_0    defaults\n",
      "msys2-conda-epoch         20160418                      1    defaults\n",
      "multipledispatch          0.5.0                    py36_0    defaults\n",
      "mxnet                     1.3.1                     <pip>\n",
      "navigator-updater         0.2.1                    py36_0    defaults\n",
      "nb_conda                  2.2.1                    py36_0    https://mirrors.tuna.tsinghua.edu.cn/anaconda/pkgs/main\n",
      "nb_conda_kernels          2.2.0                    py36_0    https://mirrors.tuna.tsinghua.edu.cn/anaconda/pkgs/main\n",
      "nbconvert                 5.3.1            py36h8dc0fde_0    defaults\n",
      "nbformat                  4.4.0            py36h3a5bc1b_0    defaults\n",
      "networkx                  2.1                      py36_0    defaults\n",
      "nltk                      3.3.0                    py36_0    defaults\n",
      "nose                      1.3.7            py36h1c3779e_2    defaults\n",
      "notebook                  5.5.0                    py36_0    defaults\n",
      "numba                     0.38.0           py36h830ac7b_0    defaults\n",
      "numexpr                   2.6.5            py36hcd2f87e_0    defaults\n",
      "numpy                     1.14.3           py36h9fa60d3_1    defaults\n",
      "numpy                     1.14.6                    <pip>\n",
      "numpy-base                1.14.3           py36h555522e_1    defaults\n",
      "numpydoc                  0.8.0                    py36_0    defaults\n",
      "odo                       0.5.1            py36h7560279_0    defaults\n",
      "olefile                   0.45.1                   py36_0    defaults\n",
      "opencv-python             3.4.4.19                  <pip>\n",
      "openpyxl                  2.5.3                    py36_0    defaults\n",
      "openssl                   1.0.2o               h8ea7d77_0    https://mirrors.tuna.tsinghua.edu.cn/anaconda/pkgs/main\n",
      "packaging                 17.1                     py36_0    defaults\n",
      "pandas                    0.23.0           py36h830ac7b_0    defaults\n",
      "pandoc                    1.19.2.1             hb2460c7_1    defaults\n",
      "pandocfilters             1.4.2            py36h3ef6317_1    defaults\n",
      "parso                     0.2.0                    py36_0    defaults\n",
      "partd                     0.3.8            py36hc8e763b_0    defaults\n",
      "path.py                   11.0.1                   py36_0    defaults\n",
      "pathlib2                  2.3.2                    py36_0    defaults\n",
      "patsy                     0.5.0                    py36_0    defaults\n",
      "pep8                      1.7.1                    py36_0    defaults\n",
      "pickleshare               0.7.4            py36h9de030f_0    defaults\n",
      "pillow                    5.1.0            py36h0738816_0    defaults\n",
      "pip                       10.0.1                   py36_0    defaults\n",
      "pkginfo                   1.4.2                    py36_1    defaults\n",
      "pluggy                    0.6.0            py36hc7daf1e_0    defaults\n",
      "ply                       3.11                     py36_0    defaults\n",
      "prompt_toolkit            1.0.15           py36h60b8f86_0    defaults\n",
      "protobuf                  3.6.1                     <pip>\n",
      "psutil                    5.4.5            py36hfa6e2cd_0    defaults\n",
      "py                        1.5.3                    py36_0    defaults\n",
      "pycodestyle               2.4.0                    py36_0    defaults\n",
      "pycosat                   0.6.3            py36h413d8a4_0    defaults\n",
      "pycparser                 2.18             py36hd053e01_1    defaults\n",
      "pycrypto                  2.6.1            py36hfa6e2cd_8    defaults\n",
      "pycurl                    7.43.0.1         py36h74b6da3_0    defaults\n",
      "pyflakes                  1.6.0            py36h0b975d6_0    defaults\n",
      "pygments                  2.2.0            py36hb010967_0    defaults\n",
      "pylint                    1.8.4                    py36_0    defaults\n",
      "pyodbc                    4.0.23           py36h6538335_0    defaults\n",
      "pyopenssl                 18.0.0                   py36_0    defaults\n",
      "pyparsing                 2.2.0            py36h785a196_1    defaults\n",
      "pyqt                      5.9.2            py36h1aa27d4_0    defaults\n",
      "pysocks                   1.6.8                    py36_0    defaults\n",
      "pytables                  3.4.3            py36he6f6034_1    defaults\n",
      "pytest                    3.5.1                    py36_0    defaults\n",
      "pytest-arraydiff          0.2                      py36_0    defaults\n",
      "pytest-astropy            0.3.0                    py36_0    defaults\n",
      "pytest-doctestplus        0.1.3                    py36_0    defaults\n",
      "pytest-openfiles          0.3.0                    py36_0    defaults\n",
      "pytest-remotedata         0.2.1                    py36_0    defaults\n",
      "python                    3.6.5                h0c2934d_0    defaults\n",
      "python-dateutil           2.7.3                    py36_0    defaults\n",
      "pytorch-cpu               0.4.1           py36_cpuhe774522_1    pytorch\n",
      "pytz                      2018.4                   py36_0    defaults\n",
      "pywavelets                0.5.2            py36hc649158_0    defaults\n",
      "pywin32                   223              py36hfa6e2cd_1    defaults\n",
      "pywinpty                  0.5.1                    py36_0    defaults\n",
      "pyyaml                    3.12             py36h1d1928f_1    defaults\n",
      "pyzmq                     17.0.0           py36hfa6e2cd_1    defaults\n",
      "qt                        5.9.5            vc14he4a7d60_0  [vc14]  defaults\n",
      "qtawesome                 0.4.4            py36h5aa48f6_0    defaults\n",
      "qtconsole                 4.3.1            py36h99a29a9_0    defaults\n",
      "qtpy                      1.4.1                    py36_0    defaults\n",
      "requests                  2.18.4           py36h4371aae_1    defaults\n",
      "rope                      0.10.7           py36had63a69_0    defaults\n",
      "ruamel_yaml               0.15.35          py36hfa6e2cd_1    defaults\n",
      "scikit-image              0.13.1           py36hfa6e2cd_1    defaults\n",
      "scikit-learn              0.19.1           py36h53aea1b_0    defaults\n",
      "scipy                     1.1.0            py36h672f292_0    defaults\n",
      "seaborn                   0.8.1            py36h9b69545_0    defaults\n",
      "send2trash                1.5.0                    py36_0    defaults\n",
      "setuptools                39.1.0                   py36_0    defaults\n",
      "setuptools                39.1.0                    <pip>\n",
      "simplegeneric             0.8.1                    py36_2    defaults\n",
      "singledispatch            3.4.0.3          py36h17d0c80_0    defaults\n",
      "sip                       4.19.8           py36h6538335_0    defaults\n",
      "six                       1.11.0                    <pip>\n",
      "six                       1.11.0           py36h4db2310_1    defaults\n",
      "snappy                    1.1.7                h777316e_3    defaults\n",
      "snowballstemmer           1.2.1            py36h763602f_0    defaults\n",
      "sortedcollections         0.6.1                    py36_0    defaults\n",
      "sortedcontainers          1.5.10                   py36_0    defaults\n",
      "sphinx                    1.7.4                    py36_0    defaults\n",
      "sphinxcontrib             1.0              py36hbbac3d2_1    defaults\n",
      "sphinxcontrib-websupport  1.0.1            py36hb5e5916_1    defaults\n",
      "spyder                    3.2.8                    py36_0    defaults\n",
      "sqlalchemy                1.2.7            py36ha85dd04_0    defaults\n",
      "sqlite                    3.23.1               h35aae40_0    defaults\n",
      "statsmodels               0.9.0            py36h452e1ab_0    defaults\n",
      "sympy                     1.1.1            py36h96708e0_0    defaults\n",
      "tblib                     1.3.2            py36h30f5020_0    defaults\n",
      "tensorboard               1.11.0                    <pip>\n",
      "tensorboardX              1.4                       <pip>\n",
      "tensorflow                1.11.0                    <pip>\n",
      "termcolor                 1.1.0                     <pip>\n",
      "terminado                 0.8.1                    py36_1    defaults\n",
      "testpath                  0.3.1            py36h2698cfe_0    defaults\n",
      "tk                        8.6.7                hcb92d03_3    defaults\n",
      "toolz                     0.9.0                    py36_0    defaults\n",
      "torchvision               0.2.1                     <pip>\n",
      "tornado                   5.0.2                    py36_0    defaults\n",
      "traitlets                 4.3.2            py36h096827d_0    defaults\n",
      "typing                    3.6.4                    py36_0    defaults\n",
      "unicodecsv                0.14.1           py36h6450c06_0    defaults\n",
      "urllib3                   1.22             py36h276f60a_0    defaults\n",
      "vc                        14                   h0510ff6_3    defaults\n",
      "vs2015_runtime            14.0.25123                    3    defaults\n",
      "wcwidth                   0.1.7            py36h3d5aa90_0    defaults\n",
      "webencodings              0.5.1            py36h67c50ae_1    defaults\n",
      "werkzeug                  0.14.1                   py36_0    defaults\n",
      "Werkzeug                  0.14.1                    <pip>\n",
      "wget                      3.2                       <pip>\n",
      "wheel                     0.31.1                   py36_0    defaults\n",
      "wheel                     0.32.2                    <pip>\n",
      "widgetsnbextension        3.2.1                    py36_0    defaults\n",
      "win_inet_pton             1.0.1            py36he67d7fd_1    defaults\n",
      "win_unicode_console       0.5              py36hcdbd4b5_0    defaults\n",
      "wincertstore              0.2              py36h7fe50ca_0    defaults\n",
      "winpty                    0.4.3                         4    defaults\n",
      "wrapt                     1.10.11          py36he5f5981_0    defaults\n",
      "xlrd                      1.1.0            py36h1cb58dc_1    defaults\n",
      "xlsxwriter                1.0.4                    py36_0    defaults\n",
      "xlwings                   0.11.8                   py36_0    defaults\n",
      "xlwt                      1.3.0            py36h1a4751e_0    defaults\n",
      "yaml                      0.1.7                hc54c509_2    defaults\n",
      "zeromq                    4.2.5                hc6251cf_0    defaults\n",
      "zict                      0.1.3            py36h2d8e73e_0    defaults\n",
      "zlib                      1.2.11               h8395fce_2    defaults\n"
     ]
    }
   ],
   "source": [
    "!conda list"
   ]
  },
  {
   "cell_type": "code",
   "execution_count": 65,
   "metadata": {},
   "outputs": [
    {
     "name": "stdout",
     "output_type": "stream",
     "text": [
      "Collecting feedparser\n",
      "  Downloading https://files.pythonhosted.org/packages/91/d8/7d37fec71ff7c9dbcdd80d2b48bcdd86d6af502156fc93846fb0102cb2c4/feedparser-5.2.1.tar.bz2 (192kB)\n",
      "Building wheels for collected packages: feedparser\n",
      "  Running setup.py bdist_wheel for feedparser: started\n",
      "  Running setup.py bdist_wheel for feedparser: finished with status 'done'\n",
      "  Stored in directory: C:\\Users\\28614\\AppData\\Local\\pip\\Cache\\wheels\\8c\\69\\b7\\f52763c41c5471df57703a0ef718a32a5e81ee35dcf6d4f97f\n",
      "Successfully built feedparser\n",
      "Installing collected packages: feedparser\n",
      "Successfully installed feedparser-5.2.1\n"
     ]
    },
    {
     "name": "stderr",
     "output_type": "stream",
     "text": [
      "You are using pip version 10.0.1, however version 18.1 is available.\n",
      "You should consider upgrading via the 'python -m pip install --upgrade pip' command.\n"
     ]
    }
   ],
   "source": [
    "!pip install feedparser"
   ]
  },
  {
   "cell_type": "code",
   "execution_count": 66,
   "metadata": {},
   "outputs": [],
   "source": [
    "def calcMostFreq(vocabList, fullText):\n",
    "    import operator\n",
    "    freqDict = {}\n",
    "    for token in vocabList:\n",
    "        freqDict[token] = fullText.count(token)\n",
    "    sortedFreq = sorted(freqDict.items(), key=operator.itemgetter(1), reverse=True)\n",
    "    return sortedFreq"
   ]
  },
  {
   "cell_type": "code",
   "execution_count": 67,
   "metadata": {},
   "outputs": [],
   "source": [
    "def bagOfWords2VecMN(vocabList, inputSet):\n",
    "    returnVec = [0]*len(vocabList)\n",
    "    for word in inputSet:\n",
    "        if word in vocabList:\n",
    "            returnVec[vocabList.index(word)] += 1\n",
    "    return returnVec"
   ]
  },
  {
   "cell_type": "code",
   "execution_count": 83,
   "metadata": {},
   "outputs": [],
   "source": [
    "def localWords(feed1, feed0):  ###fees0 and feed1 是两个RSS源\n",
    "    import feedparser\n",
    "    docList = []; classList = []; fullText =[]\n",
    "    minLen = min(len(feed1['links']), len(feed0['links'])) ### ???\n",
    "    \n",
    "    for i in range(minLen):\n",
    "        wordList = textParse(feed1['entries'][i]['summary'])\n",
    "        docList.append(wordList)\n",
    "        fullText.extend(wordList)\n",
    "        classList.append(1)\n",
    "        wordList = textParse(feed0['entries'][i]['summary'])\n",
    "        docList.append(wordList)\n",
    "        fullText.extend(wordList)\n",
    "        classList.append(0)\n",
    "    vocabList = createVocabList(docList)\n",
    "    top30Words = calcMostFreq(vocabList, fullText)\n",
    "    for pairW in top30Words:\n",
    "        if pairW[0] in vocabList:\n",
    "            vocabList.remove(pairW[0])  #删除高频的前30个词汇\n",
    "    trainingSet = range(2*minLen); testSet = []\n",
    "    print(2*minLen)\n",
    "    for i in range(20):\n",
    "        randIndex = int(np.random.uniform(0, len(trainingSet)))\n",
    "        testSet.append(trainingSet[randIndex])\n",
    "        del(list(trainingSet)[randIndex])\n",
    "    trainMat = []; trainClasses = []\n",
    "    for docIndex in trainingSet:\n",
    "        trainMat.append(bagOfWords2VecMN(vocabList, docList(docIndex)))\n",
    "        trainClasses.append(classList[docIndex])\n",
    "    p0V, p1V, pSpam = trainNB0(np.array(trainMat), np.array(trainClasses))\n",
    "    errorCount = 0\n",
    "    for docIndex in testSet:\n",
    "        wordVector = bagOfWords2VecMN(vocabList, docList[docIndex])\n",
    "        if classifyNB(np.array(wordVector), p0V, p1V, pSpam) != classList[docIndex]:\n",
    "            errorCount += 1\n",
    "    print('the error rate is: ', float(errorCount)/len(testSet))\n",
    "    return vocabList, p0V, p1V"
   ]
  },
  {
   "cell_type": "code",
   "execution_count": 84,
   "metadata": {},
   "outputs": [],
   "source": [
    "import feedparser\n",
    "ny = feedparser.parse('http://newyork.craigslist.org/stp/index.rss')\n",
    "sf = feedparser.parse('http://sfbay.craigslist.org/stp/index.rss')"
   ]
  },
  {
   "cell_type": "code",
   "execution_count": 85,
   "metadata": {},
   "outputs": [
    {
     "name": "stdout",
     "output_type": "stream",
     "text": [
      "{'feed': {'html': {'class': 'no-js'}, 'links': [{'type': 'text/css', 'rel': 'stylesheet', 'media': 'all', 'href': 'https://www.craigslist.org/styles/simple-page.css?v=3c90c8a90be2e9f4e6248d38855be90c'}, {'type': 'text/css', 'rel': 'stylesheet', 'media': 'all', 'href': 'https://www.craigslist.org/styles/jquery-ui-clcustom.css?v=3b05ddffb7c7f5b62066deff2dda9339'}, {'type': 'text/css', 'rel': 'stylesheet', 'media': 'all', 'href': 'https://www.craigslist.org/styles/jquery.qtip-2.2.1.css?v=cd202aead4d1dd4894fbae4ade23fcf8'}], 'meta': {'name': 'viewport', 'content': 'width=device-width,initial-scale=1'}}, 'entries': [], 'bozo': 1, 'headers': {'Connection': 'keep-alive', 'Cache-control': 'private', 'Last-Modified': 'Thu, 20 Dec 2018 13:06:42 GMT', 'Date': 'Thu, 20 Dec 2018 13:06:42 GMT', 'Content-Encoding': 'gzip', 'Vary': 'Accept-Encoding', 'Content-Length': '1863', 'Content-Type': 'text/html; charset=UTF-8', 'X-Frame-Options': 'SAMEORIGIN', 'Pragma': 'no-cache', 'Set-Cookie': 'cl_b=tENOGFgE6RGvDKy7tj5czg3pwjs;path=/;domain=.craigslist.org;expires=Fri, 01-Jan-2038 00:00:00 GMT', 'Server': 'Apache', 'Expires': 'Thu, 01 Jan 1970 00:00:00 GMT', 'Strict-Transport-Security': 'max-age=86400'}, 'updated': 'Thu, 20 Dec 2018 13:06:42 GMT', 'updated_parsed': time.struct_time(tm_year=2018, tm_mon=12, tm_mday=20, tm_hour=13, tm_min=6, tm_sec=42, tm_wday=3, tm_yday=354, tm_isdst=0), 'href': 'https://sfbay.craigslist.org/stp/index.rss', 'status': 301, 'encoding': 'UTF-8', 'bozo_exception': SAXParseException('mismatched tag',), 'version': '', 'namespaces': {}}\n"
     ]
    }
   ],
   "source": [
    "print(sf)"
   ]
  },
  {
   "cell_type": "code",
   "execution_count": 80,
   "metadata": {},
   "outputs": [
    {
     "data": {
      "text/plain": [
       "0"
      ]
     },
     "execution_count": 80,
     "metadata": {},
     "output_type": "execute_result"
    }
   ],
   "source": [
    "len(sf['entries'])"
   ]
  },
  {
   "cell_type": "code",
   "execution_count": 86,
   "metadata": {},
   "outputs": [
    {
     "ename": "KeyError",
     "evalue": "'links'",
     "output_type": "error",
     "traceback": [
      "\u001b[1;31m---------------------------------------------------------------------------\u001b[0m",
      "\u001b[1;31mKeyError\u001b[0m                                  Traceback (most recent call last)",
      "\u001b[1;32m<ipython-input-86-9eccdf0ed665>\u001b[0m in \u001b[0;36m<module>\u001b[1;34m()\u001b[0m\n\u001b[1;32m----> 1\u001b[1;33m \u001b[0mvocabList\u001b[0m\u001b[1;33m,\u001b[0m \u001b[0mpsF\u001b[0m\u001b[1;33m,\u001b[0m \u001b[0mpNY\u001b[0m \u001b[1;33m=\u001b[0m \u001b[0mlocalWords\u001b[0m\u001b[1;33m(\u001b[0m\u001b[0mny\u001b[0m\u001b[1;33m,\u001b[0m \u001b[0msf\u001b[0m\u001b[1;33m)\u001b[0m\u001b[1;33m\u001b[0m\u001b[0m\n\u001b[0m",
      "\u001b[1;32m<ipython-input-83-765815bb8c5f>\u001b[0m in \u001b[0;36mlocalWords\u001b[1;34m(feed1, feed0)\u001b[0m\n\u001b[0;32m      2\u001b[0m     \u001b[1;32mimport\u001b[0m \u001b[0mfeedparser\u001b[0m\u001b[1;33m\u001b[0m\u001b[0m\n\u001b[0;32m      3\u001b[0m     \u001b[0mdocList\u001b[0m \u001b[1;33m=\u001b[0m \u001b[1;33m[\u001b[0m\u001b[1;33m]\u001b[0m\u001b[1;33m;\u001b[0m \u001b[0mclassList\u001b[0m \u001b[1;33m=\u001b[0m \u001b[1;33m[\u001b[0m\u001b[1;33m]\u001b[0m\u001b[1;33m;\u001b[0m \u001b[0mfullText\u001b[0m \u001b[1;33m=\u001b[0m\u001b[1;33m[\u001b[0m\u001b[1;33m]\u001b[0m\u001b[1;33m\u001b[0m\u001b[0m\n\u001b[1;32m----> 4\u001b[1;33m     \u001b[0mminLen\u001b[0m \u001b[1;33m=\u001b[0m \u001b[0mmin\u001b[0m\u001b[1;33m(\u001b[0m\u001b[0mlen\u001b[0m\u001b[1;33m(\u001b[0m\u001b[0mfeed1\u001b[0m\u001b[1;33m[\u001b[0m\u001b[1;34m'links'\u001b[0m\u001b[1;33m]\u001b[0m\u001b[1;33m)\u001b[0m\u001b[1;33m,\u001b[0m \u001b[0mlen\u001b[0m\u001b[1;33m(\u001b[0m\u001b[0mfeed0\u001b[0m\u001b[1;33m[\u001b[0m\u001b[1;34m'links'\u001b[0m\u001b[1;33m]\u001b[0m\u001b[1;33m)\u001b[0m\u001b[1;33m)\u001b[0m \u001b[1;31m### ???\u001b[0m\u001b[1;33m\u001b[0m\u001b[0m\n\u001b[0m\u001b[0;32m      5\u001b[0m \u001b[1;33m\u001b[0m\u001b[0m\n\u001b[0;32m      6\u001b[0m     \u001b[1;32mfor\u001b[0m \u001b[0mi\u001b[0m \u001b[1;32min\u001b[0m \u001b[0mrange\u001b[0m\u001b[1;33m(\u001b[0m\u001b[0mminLen\u001b[0m\u001b[1;33m)\u001b[0m\u001b[1;33m:\u001b[0m\u001b[1;33m\u001b[0m\u001b[0m\n",
      "\u001b[1;32mC:\\ProgramData\\Anaconda3\\lib\\site-packages\\feedparser.py\u001b[0m in \u001b[0;36m__getitem__\u001b[1;34m(self, key)\u001b[0m\n\u001b[0;32m    354\u001b[0m             \u001b[1;32melif\u001b[0m \u001b[0mdict\u001b[0m\u001b[1;33m.\u001b[0m\u001b[0m__contains__\u001b[0m\u001b[1;33m(\u001b[0m\u001b[0mself\u001b[0m\u001b[1;33m,\u001b[0m \u001b[0mrealkey\u001b[0m\u001b[1;33m)\u001b[0m\u001b[1;33m:\u001b[0m\u001b[1;33m\u001b[0m\u001b[0m\n\u001b[0;32m    355\u001b[0m                 \u001b[1;32mreturn\u001b[0m \u001b[0mdict\u001b[0m\u001b[1;33m.\u001b[0m\u001b[0m__getitem__\u001b[0m\u001b[1;33m(\u001b[0m\u001b[0mself\u001b[0m\u001b[1;33m,\u001b[0m \u001b[0mrealkey\u001b[0m\u001b[1;33m)\u001b[0m\u001b[1;33m\u001b[0m\u001b[0m\n\u001b[1;32m--> 356\u001b[1;33m         \u001b[1;32mreturn\u001b[0m \u001b[0mdict\u001b[0m\u001b[1;33m.\u001b[0m\u001b[0m__getitem__\u001b[0m\u001b[1;33m(\u001b[0m\u001b[0mself\u001b[0m\u001b[1;33m,\u001b[0m \u001b[0mkey\u001b[0m\u001b[1;33m)\u001b[0m\u001b[1;33m\u001b[0m\u001b[0m\n\u001b[0m\u001b[0;32m    357\u001b[0m \u001b[1;33m\u001b[0m\u001b[0m\n\u001b[0;32m    358\u001b[0m     \u001b[1;32mdef\u001b[0m \u001b[0m__contains__\u001b[0m\u001b[1;33m(\u001b[0m\u001b[0mself\u001b[0m\u001b[1;33m,\u001b[0m \u001b[0mkey\u001b[0m\u001b[1;33m)\u001b[0m\u001b[1;33m:\u001b[0m\u001b[1;33m\u001b[0m\u001b[0m\n",
      "\u001b[1;31mKeyError\u001b[0m: 'links'"
     ]
    }
   ],
   "source": [
    "vocabList, psF, pNY = localWords(ny, sf)"
   ]
  },
  {
   "cell_type": "code",
   "execution_count": 87,
   "metadata": {},
   "outputs": [
    {
     "ename": "SyntaxError",
     "evalue": "invalid syntax (<ipython-input-87-4936d0c0081c>, line 10)",
     "output_type": "error",
     "traceback": [
      "\u001b[1;36m  File \u001b[1;32m\"<ipython-input-87-4936d0c0081c>\"\u001b[1;36m, line \u001b[1;32m10\u001b[0m\n\u001b[1;33m    sortedSF = sorted(topSF, key=lamba pair: pair[1], reverse=True)\u001b[0m\n\u001b[1;37m                                          ^\u001b[0m\n\u001b[1;31mSyntaxError\u001b[0m\u001b[1;31m:\u001b[0m invalid syntax\n"
     ]
    }
   ],
   "source": [
    "def getTopWords(ny, sf):\n",
    "    import operator\n",
    "    vocabList, p0V, p1V = localWords(ny, sf)\n",
    "    topNY = []; topSF = []\n",
    "    for i in range(len(p0V)):\n",
    "        if p0V[i] > -0.6:\n",
    "            topSF.append((vocabList[i], p0V[i]))\n",
    "        if p1V[i] > -0.6:\n",
    "            topNY.append((vocabList[i],p1V[i]))\n",
    "    sortedSF = sorted(topSF, key=lamba pair: pair[1], reverse=True)\n",
    "    print(\"SF**SF**SF**SF**SF**SF**SF**SF**SF**SF**SF**SF**SF**SF**SF**SF**\")\n",
    "    for item in sortedSF:\n",
    "        print(item[0])\n",
    "    sortedSF = sorted(topNY, key=lamba pair: pair[1], reverse=True)\n",
    "    print(\"SF**SF**SF**SF**SF**SF**SF**SF**SF**SF**SF**SF**SF**SF**SF**SF**\")\n",
    "    for item in sortedNY:\n",
    "        print(item[0])"
   ]
  },
  {
   "cell_type": "code",
   "execution_count": null,
   "metadata": {},
   "outputs": [],
   "source": []
  }
 ],
 "metadata": {
  "kernelspec": {
   "display_name": "Python 3",
   "language": "python",
   "name": "python3"
  },
  "language_info": {
   "codemirror_mode": {
    "name": "ipython",
    "version": 3
   },
   "file_extension": ".py",
   "mimetype": "text/x-python",
   "name": "python",
   "nbconvert_exporter": "python",
   "pygments_lexer": "ipython3",
   "version": "3.6.5"
  }
 },
 "nbformat": 4,
 "nbformat_minor": 2
}
